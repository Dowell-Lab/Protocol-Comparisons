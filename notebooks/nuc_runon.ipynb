{
 "cells": [
  {
   "cell_type": "code",
   "execution_count": null,
   "metadata": {},
   "outputs": [],
   "source": [
    "import random\n",
    "import pandas\n",
    "import plotly.express as px\n",
    "import numpy as np\n",
    "import matplotlib.pyplot as plt"
   ]
  },
  {
   "cell_type": "markdown",
   "metadata": {},
   "source": [
    "# set up the RNA nucleotide comp"
   ]
  },
  {
   "cell_type": "code",
   "execution_count": null,
   "metadata": {},
   "outputs": [],
   "source": [
    "print(pandas.__version__)\n",
    "print(np.__version__)"
   ]
  },
  {
   "cell_type": "code",
   "execution_count": null,
   "metadata": {},
   "outputs": [],
   "source": [
    "import random\n",
    "\n",
    "RNAntscon = {\"A\":25, \"C\":25, \"T\":25, \"G\":25}\n",
    "#randomList = "
   ]
  },
  {
   "cell_type": "markdown",
   "metadata": {},
   "source": [
    "# Build in-silico pieces of DNA and then transcribe them with a certain stop rate based on the ratio of biotinCTP to CTP"
   ]
  },
  {
   "cell_type": "code",
   "execution_count": null,
   "metadata": {},
   "outputs": [],
   "source": [
    "def generaterandomRNA(lenofpotentialRNA):\n",
    "    keys = list(RNAntscon.keys())\n",
    "    values = [RNAntscon[key] for key in keys]\n",
    "    RNAlist = random.choices(keys, values, k=lenofpotentialRNA)\n",
    "    return \"\".join(RNAlist)"
   ]
  },
  {
   "cell_type": "code",
   "execution_count": null,
   "metadata": {},
   "outputs": [],
   "source": [
    "def testgenerate():\n",
    "    print (generaterandomRNA(5))"
   ]
  },
  {
   "cell_type": "code",
   "execution_count": null,
   "metadata": {},
   "outputs": [],
   "source": [
    "def transcription_biotinincorp(RNA,RNApolIIpos, runonbiotinC, runonC, naturalC):\n",
    "    #print (RNA)\n",
    "    stoplist = [\"T\", \"F\"]\n",
    "    currenttranscript=RNA[:RNApolIIpos]\n",
    "    currenttranscript = currenttranscript.split()\n",
    "    restofRNA = RNA[RNApolIIpos:]\n",
    "    #print (\"current RNA\", currenttranscript)\n",
    "    #print (\"potential RNA\", restofRNA)\n",
    "    for nt in restofRNA:\n",
    "        currenttranscript.append(nt)\n",
    "        if nt==\"C\":\n",
    "            doIstop = random.choices(stoplist, weights=(runonbiotinC, runonC+naturalC))\n",
    "            if doIstop[0]==\"T\":\n",
    "                currenttranscript = \"\".join(currenttranscript)\n",
    "                #print (\"final RNA\", currenttranscript)\n",
    "                return currenttranscript\n",
    "    currenttranscript = \"\".join(currenttranscript)\n",
    "    #print (\"final RNA\", currenttranscript)\n",
    "    return currenttranscript\n",
    "\n",
    "\n",
    "def lendist(lenofpotentialRNA, RNApolIIpos, repeats,runonbiotinC, runonC, naturalC):\n",
    "    stoppedlens = []\n",
    "    for i in range(repeats):\n",
    "        potentialtranscript = generaterandomRNA(lenofpotentialRNA)\n",
    "        finalbiotinalatedRNA = transcription_biotinincorp(potentialtranscript,RNApolIIpos , runonbiotinC, runonC, naturalC)\n",
    "        stoppedlens.append(len(finalbiotinalatedRNA))\n",
    "    return stoppedlens"
   ]
  },
  {
   "cell_type": "code",
   "execution_count": null,
   "metadata": {},
   "outputs": [],
   "source": [
    "def testlendist():\n",
    "    lenofpotentialRNA=500\n",
    "    RNApolIIpos=5\n",
    "    repeats = 10\n",
    "    runonbiotinC=2\n",
    "    runonC=0\n",
    "    naturalC=0\n",
    "    stoppedlens = lendist(lenofpotentialRNA=lenofpotentialRNA, RNApolIIpos=RNApolIIpos, repeats=repeats, runonbiotinC=runonbiotinC, runonC=runonC, naturalC=naturalC)\n",
    "    print (stoppedlens)"
   ]
  },
  {
   "cell_type": "code",
   "execution_count": null,
   "metadata": {},
   "outputs": [],
   "source": [
    "def differentbiotincon(RNApolIIpos,lenofpotentialRNA,repeats, naturalC=0):\n",
    "    experiments = [[2,0],[3,5],[2,8]]\n",
    "    results = {}\n",
    "    for Cconpair in experiments:\n",
    "        runonbiotinC, runonC = Cconpair\n",
    "        name = str(Cconpair)\n",
    "        stoppedlens = lendist(lenofpotentialRNA=lenofpotentialRNA, RNApolIIpos=RNApolIIpos, repeats=repeats, runonbiotinC=runonbiotinC, runonC=runonC, naturalC=naturalC)\n",
    "        results[name]=stoppedlens\n",
    "    df = pandas.DataFrame.from_dict(results)\n",
    "    df = pandas.melt(df)\n",
    "    df = df.rename({\"value\":\"final_length_of_transcript\", \"variable\": \"Biotin_consentration\"}, axis=1)\n",
    "    df[\"lenofpotentialRNA\"]=lenofpotentialRNA\n",
    "    df[\"RNApolIIpos\"]=RNApolIIpos\n",
    "    df[\"filtered\"] = \"N\"\n",
    "    return df\n",
    "        "
   ]
  },
  {
   "cell_type": "markdown",
   "metadata": {},
   "source": [
    "# How long is the biotinlated transcript when pol II is at 5 nt from the start site. "
   ]
  },
  {
   "cell_type": "code",
   "execution_count": null,
   "metadata": {},
   "outputs": [],
   "source": [
    "biotinRNAscreated = differentbiotincon(RNApolIIpos=5,lenofpotentialRNA=500,repeats = 100)\n",
    "fig = px.violin(biotinRNAscreated, y=\"final_length_of_transcript\", x=\"Biotin_consentration\", color=\"RNApolIIpos\", box=True, points=\"all\",\n",
    "          hover_data=biotinRNAscreated.columns)\n",
    "fig.show()\n"
   ]
  },
  {
   "cell_type": "code",
   "execution_count": null,
   "metadata": {},
   "outputs": [],
   "source": [
    "biotinRNAscreated = differentbiotincon(RNApolIIpos=20,lenofpotentialRNA=500,repeats = 100)\n",
    "fig = px.violin(biotinRNAscreated, y=\"final_length_of_transcript\", x=\"Biotin_consentration\", color=\"RNApolIIpos\", box=True, points=\"all\",\n",
    "          hover_data=biotinRNAscreated.columns)\n",
    "fig.show()"
   ]
  },
  {
   "cell_type": "markdown",
   "metadata": {},
   "source": [
    "# Ampure bead slection"
   ]
  },
  {
   "cell_type": "raw",
   "metadata": {},
   "source": [
    "### Current way to do this is to let the size selection act solely on length alone as the lambda term of an exponential, and then modify lambda to represent ampure bead conc.\n"
   ]
  },
  {
   "cell_type": "markdown",
   "metadata": {},
   "source": [
    "## If the ampure bead is at 0.9x, it gets rid of most things at 100. The cDNA length at that point is sum of the two adapters and the RNA length. If I remember right the sum of the two adapters as ~63. So basiacaly any RNA under 30 nt in length will be gone. \n"
   ]
  },
  {
   "cell_type": "code",
   "execution_count": null,
   "metadata": {},
   "outputs": [],
   "source": [
    "\n",
    "def filtertoshort(biotinRNAscreated, toshort=1):\n",
    "    filterlist = []\n",
    "    for value in biotinRNAscreated['final_length_of_transcript']:\n",
    "        sizefilter=round((np.random.exponential((1/(((toshort)/10))),1))[0]+15)\n",
    "        filterlist.append(sizefilter)\n",
    "    biotinRNAscreated['sizeIllfilter'] = np.array(filterlist)\n",
    "    biotinRNAscreated = biotinRNAscreated[biotinRNAscreated[\"final_length_of_transcript\"]>biotinRNAscreated[\"sizeIllfilter\"]]\n",
    "    biotinRNAscreated[\"filtered\"] = \"Ampure\"+str(toshort) \n",
    "    print (\"columnsafterfileter\", biotinRNAscreated.shape)\n",
    "    return biotinRNAscreated"
   ]
  },
  {
   "cell_type": "code",
   "execution_count": null,
   "metadata": {},
   "outputs": [],
   "source": [
    "toshort=1\n",
    "biotinRNAscreated = differentbiotincon(RNApolIIpos=20,lenofpotentialRNA=500,repeats = 100)\n",
    "biotinRNAscreated_removeshort = filtertoshort(biotinRNAscreated, toshort=toshort)\n",
    "filterandnotmanypolposlistdf = pandas.concat([biotinRNAscreated, biotinRNAscreated_removeshort])\n",
    "fig = px.violin(filterandnotmanypolposlistdf, y=\"final_length_of_transcript\", x=\"Biotin_consentration\", color=\"filtered\", box=True, points=\"all\",\n",
    "          hover_data=biotinRNAscreated.columns)\n",
    "fig.show()\n",
    "\n"
   ]
  },
  {
   "cell_type": "markdown",
   "metadata": {},
   "source": [
    "# In reality the position of poll II on any transcript is a mixture of all the RNA pol II in the cell. I need to model typical Pol II position in the cell. "
   ]
  },
  {
   "cell_type": "code",
   "execution_count": null,
   "metadata": {},
   "outputs": [],
   "source": [
    "def modelpolIIposloading(mu, sigma,intnumpol):\n",
    "    polIIpos = np.random.randn(intnumpol) * sigma + mu\n",
    "    return polIIpos\n",
    "\n",
    "def modelloadandinit(mu, sigma,variablethatcontrolshowlonginitRNAsare, intnumpol):\n",
    "    polIIloadpostions = list(modelpolIIposloading(mu, sigma,intnumpol))\n",
    "    endinits = []\n",
    "    for pos in polIIloadpostions:\n",
    "        newpos = np.random.exponential(variablethatcontrolshowlonginitRNAsare,1)\n",
    "        newpos = newpos[0]+pos\n",
    "        endinits.append(newpos)\n",
    "    return endinits, polIIloadpostions, [\"loadinit\" for num in polIIloadpostions]\n",
    "\n",
    "def modelloadandelongate(mu, end,elongnumpol):\n",
    "    polIIloadpostions = list(modelpolIIposloading(mu, sigma,elongnumpol))\n",
    "    endinits = []\n",
    "    for pos in polIIloadpostions:\n",
    "        newpos = np.random.uniform(pos,end,1)\n",
    "        newpos = newpos[0]\n",
    "        endinits.append(newpos)\n",
    "    return endinits, polIIloadpostions, [\"loadelong\" for num in polIIloadpostions]\n",
    "\n",
    "\n",
    "def modelpolloadinginitelong(oribins, mu=0.0, sigma=30.0,variablethatcontrolshowlonginitRNAsare=1,ntnumpol=100,end=500, elongnumpol=10, graph=\"Y\"):\n",
    "    mu = mu+offset\n",
    "    end = end+offset\n",
    "    print (mu, end)\n",
    "    modelofinit = modelloadandinit(mu, sigma,variablethatcontrolshowlonginitRNAsare,intnumpol)\n",
    "    modelofelong = modelloadandelongate(mu,end, elongnumpol)\n",
    "    producedby = modelofinit[2]+modelofelong[2]\n",
    "    actuallmupos = modelofinit[1]+modelofelong[1]\n",
    "    actuallmupos = [round(num) for num in actuallmupos]\n",
    "    polIIpos = modelofinit[0]+modelofelong[0]\n",
    "    wholepolIIpos = [round(num) for num in polIIpos]\n",
    "    wholepolIIpos_removeoffset = [num-offset for num in wholepolIIpos]\n",
    "    counts, bins = np.histogram(wholepolIIpos_removeoffset, bins=oribins)\n",
    "    bins = 0.5 * (bins[:-1] + bins[1:])\n",
    "    if graph==\"Y\":\n",
    "        fig = px.bar(x=bins, y=counts, labels={'x':'position', 'y':'# pol'})\n",
    "        fig.show()\n",
    "    allpolexp = list(zip(actuallmupos, wholepolIIpos, producedby))\n",
    "    df = pandas.DataFrame(allpolexp, columns=[\"cap pos\",\"pol position\", \"produced by\"])\n",
    "    df[\"len of RNA\"]=df[\"pol position\"]-df[\"cap pos\"]\n",
    "    return df\n"
   ]
  },
  {
   "cell_type": "code",
   "execution_count": null,
   "metadata": {},
   "outputs": [],
   "source": [
    "offset = 1000\n",
    "oribins=list(range(-100,100,1))\n",
    "mu=0\n",
    "end=500\n",
    "sigma=1\n",
    "variablethatcontrolshowlonginitRNAsare=10 #this is not 1:1. A value of 1 give a distibution of initating RNAs that are less than 10, value of #5 up to 50\n",
    "intnumpol=1000000\n",
    "elongnumpol=100000\n",
    "df_modeled_pol = modelpolloadinginitelong(oribins, mu, sigma,variablethatcontrolshowlonginitRNAsare,intnumpol,end, elongnumpol)"
   ]
  },
  {
   "cell_type": "markdown",
   "metadata": {},
   "source": [
    "### How long are the RNAs in this model of polII"
   ]
  },
  {
   "cell_type": "markdown",
   "metadata": {},
   "source": [
    "#### initating RNAs"
   ]
  },
  {
   "cell_type": "code",
   "execution_count": null,
   "metadata": {},
   "outputs": [],
   "source": [
    "\n",
    "\n",
    "initdf = df_modeled_pol[df_modeled_pol[\"produced by\"]==\"loadinit\"]\n",
    "fig = px.violin(initdf, x=\"cap pos\", y=\"len of RNA\", title=\"Elongating RNAs\")\n",
    "fig.show()"
   ]
  },
  {
   "cell_type": "code",
   "execution_count": null,
   "metadata": {},
   "outputs": [],
   "source": [
    "elongdf = df_modeled_pol[df_modeled_pol[\"produced by\"]==\"loadelong\"]\n",
    "fig = px.violin(elongdf, x=\"cap pos\", y=\"len of RNA\", title=\"Elongating RNAs\")\n",
    "fig.show()"
   ]
  },
  {
   "cell_type": "markdown",
   "metadata": {},
   "source": [
    "# simulate the experiment"
   ]
  },
  {
   "cell_type": "markdown",
   "metadata": {},
   "source": [
    "## code for simulation"
   ]
  },
  {
   "cell_type": "code",
   "execution_count": null,
   "metadata": {},
   "outputs": [],
   "source": [
    "\n",
    "def simulatetranscriptionrunon(row, runonbiotinC, runonC, naturalC):\n",
    "    stoplist = [\"T\", \"F\"]\n",
    "    cap_pos = int(row[\"cap_pos\"])\n",
    "    potentialRNA = row[\"simulatedDNA\"]\n",
    "    len_of_RNA_pretranscription = row[\"len_of_RNA_pretranscription\"]\n",
    "    RNApolIIpos = int(row[\"polIIpos_prior\"])\n",
    "    currenttranscript=potentialRNA[int(cap_pos):int(RNApolIIpos)]\n",
    "    currenttranscript = currenttranscript.split()\n",
    "    restofRNA = potentialRNA[RNApolIIpos:]\n",
    "    for i, nt in enumerate(restofRNA):\n",
    "        currenttranscript.append(nt)\n",
    "        if nt==\"C\":\n",
    "            doIstop = random.choices(stoplist, weights=(runonbiotinC, runonC+naturalC))\n",
    "            if doIstop[0]==\"T\":\n",
    "                currenttranscript = \"\".join(currenttranscript)\n",
    "                len_of_RNA_posttranscription=len(currenttranscript)\n",
    "                polIIpos_afterrunon = len_of_RNA_posttranscription+cap_pos\n",
    "                nt_transcripted = len_of_RNA_posttranscription-len_of_RNA_pretranscription\n",
    "                #print (\"final RNA\", currenttranscript)\n",
    "                return currenttranscript, polIIpos_afterrunon, len_of_RNA_posttranscription, nt_transcripted\n",
    "    currenttranscript = \"\".join(currenttranscript)\n",
    "    # If we never stop, we should throw this read out and try again\n",
    "    # Currently, we can accomplish this by just assigning a read length of 1, so it doesn't even show up no matter what filter we use\n",
    "    #print (\"final RNA\", currenttranscript)\n",
    "    len_of_RNA_posttranscription = 1\n",
    "    nt_transcripted = 1\n",
    "    polIIpos_afterrunon = 1\n",
    "    return currenttranscript, polIIpos_afterrunon, len_of_RNA_posttranscription, nt_transcripted\n",
    "\n",
    "\n",
    "def getreadstart(row, maxreadlength):\n",
    "    readstop = int(row[\"polIIpos_prior_withoutoffset\"])\n",
    "    readstart = int(int(readstop)-int(maxreadlength))\n",
    "    if readstart<row[\"cappos_withoutoffset\"]:\n",
    "        readstart = row[\"cappos_withoutoffset\"]\n",
    "    return readstart\n",
    "    \n",
    "def runtranscription_onpolIImodel(mu, sigma,variablethatcontrolshowlonginitRNAsare,end, intnumpol, elongnumpol,lenofpotentialRNA, toshort, experimentsdf, maxreadlength):\n",
    "    print (\"modeling pol II\")\n",
    "    dfs = []\n",
    "    df_modeled_pol = modelpolloadinginitelong(oribins, mu, sigma,variablethatcontrolshowlonginitRNAsare, intnumpol,end, elongnumpol, graph=\"N\")\n",
    "    df_modeled_pol = df_modeled_pol.rename({\"cap pos\":\"cap_pos\", \"pol position\":\"polIIpos_prior\", \"produced by\":\"pol_produced_by\", \"len of RNA\":\"len_of_RNA_pretranscription\"}, axis=1)\n",
    "    df_modeled_pol[\"cappos_withoutoffset\"]= df_modeled_pol[\"cap_pos\"]-offset\n",
    "    df_modeled_pol[\"polIIpos_prior_withoutoffset\"]= df_modeled_pol[\"polIIpos_prior\"]-offset\n",
    "    df_modeled_pol[\"model_mu_withoutoffset\"]=mu\n",
    "    df_modeled_pol[\"mu\"]=mu+1000\n",
    "    df_modeled_pol[\"simulatedDNA\"]= generaterandomRNA(lenofpotentialRNA+offset)\n",
    "    df_modeled_pol[\"lensimulatedDNA\"] = df_modeled_pol[\"simulatedDNA\"].apply(len)\n",
    "    for index, row in experimentsdf.iterrows():\n",
    "            runonbiotinC = row[\"runonbiotinC\"]\n",
    "            runonC = row[\"runonC\"]\n",
    "            naturalC = row[\"naturalC\"]\n",
    "            name = row[\"name\"]\n",
    "            print (name)\n",
    "            df_modeled_pol_exp =  df_modeled_pol.apply(lambda row : simulatetranscriptionrunon(row, runonbiotinC, runonC, naturalC), axis = 1, result_type='expand')\n",
    "            df_modeled_pol_exp = df_modeled_pol_exp.rename({0:\"biotinalated_transcript\", 1:\"polIIpos_afterrunon\", 2:\"final_length_of_transcript\", 3:\"nt_transcripted\"}, axis=\"columns\")\n",
    "            df_modeled_pol_exp = pandas.concat([df_modeled_pol, df_modeled_pol_exp], axis='columns')\n",
    "            df_modeled_pol_exp[\"biotin_con\"]=name\n",
    "            df_modeled_pol_exp[\"polIIpos_afterrunon_withoutoffset\"]=df_modeled_pol_exp[\"polIIpos_afterrunon\"]-offset\n",
    "            df_modeled_pol_exp[\"filtered\"] = \"N\"\n",
    "            dfs.append(df_modeled_pol_exp)\n",
    "            df_modeled_pol_exp_filtered = filtertoshort(df_modeled_pol_exp, toshort=toshort)\n",
    "            dfs.append(df_modeled_pol_exp_filtered)\n",
    "    df_modeled_pol_run_on = pandas.concat(dfs)\n",
    "    df_modeled_pol_run_on[\"readstart_withoutoffset\"]=df_modeled_pol_run_on.apply(lambda row : getreadstart(row, maxreadlength), axis = 1)\n",
    "    return df_modeled_pol_run_on\n",
    "\n",
    "\n",
    "\n",
    "def drawsammetagene(df_modeled_pol_run_on):\n",
    "    dfs = []\n",
    "    for experiment in df_modeled_pol_run_on[\"biotin_con\"].unique():\n",
    "        for filterlevel in df_modeled_pol_run_on[\"filtered\"].unique():\n",
    "            print (experiment, filterlevel)\n",
    "            all_read_positions = []\n",
    "            thismodel = df_modeled_pol_run_on[df_modeled_pol_run_on[\"biotin_con\"]==experiment]\n",
    "            thismodel = thismodel[thismodel[\"filtered\"]==filterlevel]\n",
    "            read_positions = []\n",
    "            readsdf = thismodel[[\"readstart_withoutoffset\", \"polIIpos_afterrunon_withoutoffset\"]]\n",
    "            readsdf = readsdf.rename({\"readstart_withoutoffset\":\"readstart\", \"polIIpos_afterrunon_withoutoffset\": \"readstop\"}, axis=\"columns\")\n",
    "            for index, row in readsdf.iterrows():\n",
    "                read_positions = list(range(int(row[\"readstart\"]),int(row[\"readstop\"])))\n",
    "                all_read_positions = all_read_positions+read_positions\n",
    "            counter = {}\n",
    "            for position in set(all_read_positions):\n",
    "                counter[position]=all_read_positions.count(position)\n",
    "            poscountdf = pandas.DataFrame.from_dict(counter, orient='index')\n",
    "            poscountdf[\"position\"]=poscountdf.index\n",
    "            poscountdf[\"biotin_con\"] = experiment\n",
    "            poscountdf[\"filtered\"]=filterlevel\n",
    "            poscountdf = poscountdf.rename({0:\"readcount\"}, axis=\"columns\")\n",
    "            dfs.append(poscountdf)\n",
    "    df_modeled_pol_run_on_metagene = pandas.concat(dfs)\n",
    "    df_modeled_pol_run_on_metagene = df_modeled_pol_run_on_metagene.sort_values(by=[\"biotin_con\", \"filtered\", \"position\"])\n",
    "    print (df_modeled_pol_run_on_metagene.shape)\n",
    "    print (df_modeled_pol_run_on_metagene.columns)\n",
    "    fig = px.line(df_modeled_pol_run_on_metagene, x=\"position\", y=\"readcount\",color=\"biotin_con\", line_dash=\"filtered\", title='simulated metagene')\n",
    "    #fig.update_xaxes(range=[mu-plusandminus,mu+plusandminus])\n",
    "    fig.show()\n",
    "    return df_modeled_pol_run_on_metagene\n",
    "\n",
    "def drawsammetagene_3prime(df_modeled_pol_run_on):\n",
    "    dfs = []\n",
    "    for experiment in df_modeled_pol_run_on[\"biotin_con\"].unique():\n",
    "        for filterlevel in df_modeled_pol_run_on[\"filtered\"].unique():\n",
    "            print (experiment, filterlevel)\n",
    "            all_read_positions = []\n",
    "            thismodel = df_modeled_pol_run_on[df_modeled_pol_run_on[\"biotin_con\"]==experiment]\n",
    "            thismodel = thismodel[thismodel[\"filtered\"]==filterlevel]\n",
    "            read_positions = []\n",
    "            readsdf = thismodel[[\"readstart_withoutoffset\", \"polIIpos_afterrunon_withoutoffset\"]]\n",
    "            readsdf = readsdf.rename({\"readstart_withoutoffset\":\"readstart\", \"polIIpos_afterrunon_withoutoffset\": \"readstop\"}, axis=\"columns\")\n",
    "            for index, row in readsdf.iterrows():\n",
    "                read_positions = [row[\"readstop\"]]\n",
    "                all_read_positions = all_read_positions+read_positions\n",
    "            counter = {}\n",
    "            for position in set(all_read_positions):\n",
    "                counter[position]=all_read_positions.count(position)\n",
    "            poscountdf = pandas.DataFrame.from_dict(counter, orient='index')\n",
    "            poscountdf[\"position\"]=poscountdf.index\n",
    "            poscountdf[\"biotin_con\"] = experiment\n",
    "            poscountdf[\"filtered\"]=filterlevel\n",
    "            poscountdf = poscountdf.rename({0:\"readcount\"}, axis=\"columns\")\n",
    "            dfs.append(poscountdf)\n",
    "    df_modeled_pol_run_on_metagene = pandas.concat(dfs)\n",
    "    df_modeled_pol_run_on_metagene = df_modeled_pol_run_on_metagene.sort_values(by=[\"biotin_con\", \"filtered\", \"position\"])\n",
    "    print (df_modeled_pol_run_on_metagene.shape)\n",
    "    print (df_modeled_pol_run_on_metagene.columns)\n",
    "    fig = px.line(df_modeled_pol_run_on_metagene, x=\"position\", y=\"readcount\",color=\"biotin_con\", line_dash=\"filtered\", title='simulated metagene')\n",
    "    #fig.update_xaxes(range=[mu-plusandminus,mu+plusandminus])\n",
    "    fig.show()\n",
    "    return df_modeled_pol_run_on_metagene\n",
    "\n",
    "\n"
   ]
  },
  {
   "cell_type": "markdown",
   "metadata": {},
   "source": [
    "## set up the biotin concentration dataframe"
   ]
  },
  {
   "cell_type": "code",
   "execution_count": null,
   "metadata": {},
   "outputs": [],
   "source": [
    "experimentsdf = pandas.DataFrame.from_records([[10,1,0],[1,10,0],[1,1,0]], columns = [\"runonbiotinC\", \"runonC\", \"naturalC\"])\n",
    "experimentsdf[\"name\"]= \"biotin\"+experimentsdf[\"runonbiotinC\"].astype(str)+\"_addedcold\"+experimentsdf[\"runonC\"].astype(str)+\"_naturalC\"+experimentsdf[\"naturalC\"].astype(str)\n",
    "experimentsdf\n"
   ]
  },
  {
   "cell_type": "markdown",
   "metadata": {},
   "source": [
    "## run the in silico experiment "
   ]
  },
  {
   "cell_type": "code",
   "execution_count": null,
   "metadata": {},
   "outputs": [],
   "source": [
    "offset = 1000 #I use a offset so that none of the cap positions are negative (since mu is 0 and there is a sigma around it)\n",
    "#controling pol II\n",
    "variablethatcontrolshowlonginitRNAsare=10 #this is not 1:1. A value of 1 give a distibution of initating RNAs that are less than 10, value of #5 up to 50\n",
    "mu=0#this is the mu position\n",
    "end=10000 \n",
    "lenofpotentialRNA=end+100 #lenofpotentialRNA number is for simulating the DNA only. The end is the end of transcription. I have to simulate a piece of DNA slightly longer so that I have room if the cap is not at mu.\n",
    "sigma=3\n",
    "intnumpol=20000\n",
    "elongnumpol=15000\n",
    "#\"Ampure\" size selection, i.e., higher numbers mean smaller reads are retained. This is NOT exactly the same as Ampure bead ratios\n",
    "toshort=2.5\n",
    "#controling how long the reads are\n",
    "maxreadlength=150\n",
    "df_modeled_pol_run_on_metagene = runtranscription_onpolIImodel(mu, sigma,variablethatcontrolshowlonginitRNAsare,end, intnumpol, elongnumpol,lenofpotentialRNA, toshort,experimentsdf, maxreadlength)\n"
   ]
  },
  {
   "cell_type": "markdown",
   "metadata": {},
   "source": [
    "## graph the metagene that would be made by the simulation"
   ]
  },
  {
   "cell_type": "code",
   "execution_count": null,
   "metadata": {
    "scrolled": false
   },
   "outputs": [],
   "source": [
    "readsdf = drawsammetagene(df_modeled_pol_run_on_metagene)\n"
   ]
  },
  {
   "cell_type": "markdown",
   "metadata": {},
   "source": [
    "## graph the 3' end of read metagene that would be made by the simulation"
   ]
  },
  {
   "cell_type": "code",
   "execution_count": null,
   "metadata": {},
   "outputs": [],
   "source": [
    "readsdf = drawsammetagene_3prime(df_modeled_pol_run_on_metagene)\n"
   ]
  },
  {
   "cell_type": "code",
   "execution_count": null,
   "metadata": {},
   "outputs": [],
   "source": [
    "df_modeled_pol_run_on_metagene.to_csv(\"/Users/samuelhunter/library_potpourri/reanalysis/sim_df_ampure250.csv\")"
   ]
  },
  {
   "cell_type": "code",
   "execution_count": null,
   "metadata": {},
   "outputs": [],
   "source": []
  }
 ],
 "metadata": {
  "kernelspec": {
   "display_name": "Python 3",
   "language": "python",
   "name": "python3"
  },
  "language_info": {
   "codemirror_mode": {
    "name": "ipython",
    "version": 3
   },
   "file_extension": ".py",
   "mimetype": "text/x-python",
   "name": "python",
   "nbconvert_exporter": "python",
   "pygments_lexer": "ipython3",
   "version": "3.7.1"
  }
 },
 "nbformat": 4,
 "nbformat_minor": 5
}
